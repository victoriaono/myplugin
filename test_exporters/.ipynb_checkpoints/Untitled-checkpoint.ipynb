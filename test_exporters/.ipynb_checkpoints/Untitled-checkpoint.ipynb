{
 "cells": [
  {
   "cell_type": "code",
   "execution_count": 16,
   "id": "470bdefc",
   "metadata": {},
   "outputs": [],
   "source": [
    "from __future__ import absolute_import, division, print_function\n",
    "\n",
    "import numpy as np\n",
    "import matplotlib.colors as colors\n",
    "from matplotlib.colors import Normalize\n",
    "\n",
    "from qtpy import compat\n",
    "from glue.config import viewer_tool\n",
    "\n",
    "from glue.core import DataCollection, Data\n",
    "from glue.utils import ensure_numerical\n",
    "\n",
    "try:\n",
    "    from glue.viewers.common.qt.tool import Tool\n",
    "except ImportError:\n",
    "    from glue.viewers.common.tool import Tool\n",
    "    \n",
    "from glue_plotly import PLOTLY_LOGO\n",
    "\n",
    "from plotly.offline import plot\n",
    "import plotly.graph_objs as go"
   ]
  },
  {
   "cell_type": "code",
   "execution_count": 7,
   "id": "e87bf31f",
   "metadata": {},
   "outputs": [
    {
     "name": "stdout",
     "output_type": "stream",
     "text": [
      "Address of self =  140237152060320\n",
      "Address of class object =  140237152060320\n"
     ]
    }
   ],
   "source": [
    "class check:\n",
    "    def __init__(self):\n",
    "        print(\"Address of self = \",id(self))\n",
    "obj = check()\n",
    "print(\"Address of class object = \",id(obj))"
   ]
  },
  {
   "cell_type": "code",
   "execution_count": 21,
   "id": "4f05b4f3",
   "metadata": {},
   "outputs": [
    {
     "ename": "ValueError",
     "evalue": "Tool ID 'None' already registered",
     "output_type": "error",
     "traceback": [
      "\u001b[0;31m---------------------------------------------------------------------------\u001b[0m",
      "\u001b[0;31mValueError\u001b[0m                                Traceback (most recent call last)",
      "Input \u001b[0;32mIn [21]\u001b[0m, in \u001b[0;36m<cell line: 1>\u001b[0;34m()\u001b[0m\n\u001b[1;32m      1\u001b[0m \u001b[38;5;129;43m@viewer_tool\u001b[39;49m\n\u001b[0;32m----> 2\u001b[0m \u001b[38;5;28;43;01mclass\u001b[39;49;00m\u001b[43m \u001b[49m\u001b[38;5;21;43;01mPlotlyScatter2DStaticExport\u001b[39;49;00m\u001b[43m(\u001b[49m\u001b[43mTool\u001b[49m\u001b[43m)\u001b[49m\u001b[43m:\u001b[49m\n\u001b[1;32m      3\u001b[0m \u001b[43m    \u001b[49m\u001b[38;5;28;43;01mdef\u001b[39;49;00m\u001b[43m \u001b[49m\u001b[38;5;21;43mactivate\u001b[39;49m\u001b[43m(\u001b[49m\u001b[38;5;28;43mself\u001b[39;49m\u001b[43m)\u001b[49m\u001b[43m:\u001b[49m\n\u001b[1;32m      4\u001b[0m \u001b[43m        \u001b[49m\u001b[38;5;66;43;03m# grab hover info\u001b[39;49;00m\n\u001b[1;32m      5\u001b[0m \u001b[43m        \u001b[49m\u001b[38;5;28;43;01mfor\u001b[39;49;00m\u001b[43m \u001b[49m\u001b[43mlayer\u001b[49m\u001b[43m \u001b[49m\u001b[38;5;129;43;01min\u001b[39;49;00m\u001b[43m \u001b[49m\u001b[38;5;28;43mself\u001b[39;49m\u001b[38;5;241;43m.\u001b[39;49m\u001b[43mviewer\u001b[49m\u001b[38;5;241;43m.\u001b[39;49m\u001b[43mlayers\u001b[49m\u001b[43m:\u001b[49m\n",
      "File \u001b[0;32m~/anaconda3/lib/python3.8/site-packages/glue/config.py:564\u001b[0m, in \u001b[0;36mViewerToolRegistry.__call__\u001b[0;34m(self, tool_cls)\u001b[0m\n\u001b[1;32m    563\u001b[0m \u001b[38;5;28;01mdef\u001b[39;00m \u001b[38;5;21m__call__\u001b[39m(\u001b[38;5;28mself\u001b[39m, tool_cls):\n\u001b[0;32m--> 564\u001b[0m     \u001b[38;5;28;43mself\u001b[39;49m\u001b[38;5;241;43m.\u001b[39;49m\u001b[43madd\u001b[49m\u001b[43m(\u001b[49m\u001b[43mtool_cls\u001b[49m\u001b[43m)\u001b[49m\n\u001b[1;32m    565\u001b[0m     \u001b[38;5;28;01mreturn\u001b[39;00m tool_cls\n",
      "File \u001b[0;32m~/anaconda3/lib/python3.8/site-packages/glue/config.py:559\u001b[0m, in \u001b[0;36mViewerToolRegistry.add\u001b[0;34m(self, tool_cls)\u001b[0m\n\u001b[1;32m    553\u001b[0m \u001b[38;5;124;03m\"\"\"\u001b[39;00m\n\u001b[1;32m    554\u001b[0m \u001b[38;5;124;03mAdd a tool class to the registry. The the ``tool_id`` attribute on the\u001b[39;00m\n\u001b[1;32m    555\u001b[0m \u001b[38;5;124;03mtool_cls should be set, and is used by the viewers to indicate which\u001b[39;00m\n\u001b[1;32m    556\u001b[0m \u001b[38;5;124;03mtools they want to\u001b[39;00m\n\u001b[1;32m    557\u001b[0m \u001b[38;5;124;03m\"\"\"\u001b[39;00m\n\u001b[1;32m    558\u001b[0m \u001b[38;5;28;01mif\u001b[39;00m tool_cls\u001b[38;5;241m.\u001b[39mtool_id \u001b[38;5;129;01min\u001b[39;00m \u001b[38;5;28mself\u001b[39m\u001b[38;5;241m.\u001b[39mmembers:\n\u001b[0;32m--> 559\u001b[0m     \u001b[38;5;28;01mraise\u001b[39;00m \u001b[38;5;167;01mValueError\u001b[39;00m(\u001b[38;5;124m\"\u001b[39m\u001b[38;5;124mTool ID \u001b[39m\u001b[38;5;124m'\u001b[39m\u001b[38;5;132;01m{0}\u001b[39;00m\u001b[38;5;124m'\u001b[39m\u001b[38;5;124m already registered\u001b[39m\u001b[38;5;124m\"\u001b[39m\u001b[38;5;241m.\u001b[39mformat(tool_cls\u001b[38;5;241m.\u001b[39mtool_id))\n\u001b[1;32m    560\u001b[0m \u001b[38;5;28;01melse\u001b[39;00m:\n\u001b[1;32m    561\u001b[0m     \u001b[38;5;28mself\u001b[39m\u001b[38;5;241m.\u001b[39mmembers[tool_cls\u001b[38;5;241m.\u001b[39mtool_id] \u001b[38;5;241m=\u001b[39m tool_cls\n",
      "\u001b[0;31mValueError\u001b[0m: Tool ID 'None' already registered"
     ]
    }
   ],
   "source": [
    "# @viewer_tool\n",
    "class PlotlyScatter2DStaticExport(Tool):\n",
    "    def activate(self):\n",
    "        # grab hover info\n",
    "        for layer in self.viewer.layers:\n",
    "            layer_state = layer.state\n",
    "            print(layer_state)\n",
    "#             if layer_state.visible and layer.enabled:\n",
    "#                 data = Data(label=layer_state.layer.label)\n",
    "#                 for component in layer_state.layer.components:\n",
    "#                     data[component.label] = np.ones(10)\n",
    "#                 dc_hover.append(data)"
   ]
  },
  {
   "cell_type": "code",
   "execution_count": 14,
   "id": "644c9590",
   "metadata": {},
   "outputs": [],
   "source": [
    "obj = PlotlyScatter2DStaticExport()"
   ]
  },
  {
   "cell_type": "code",
   "execution_count": null,
   "id": "f1698400",
   "metadata": {},
   "outputs": [],
   "source": []
  }
 ],
 "metadata": {
  "kernelspec": {
   "display_name": "Python 3 (ipykernel)",
   "language": "python",
   "name": "python3"
  },
  "language_info": {
   "codemirror_mode": {
    "name": "ipython",
    "version": 3
   },
   "file_extension": ".py",
   "mimetype": "text/x-python",
   "name": "python",
   "nbconvert_exporter": "python",
   "pygments_lexer": "ipython3",
   "version": "3.8.3"
  }
 },
 "nbformat": 4,
 "nbformat_minor": 5
}
